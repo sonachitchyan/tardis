{
 "cells": [
  {
   "cell_type": "markdown",
   "id": "cc613a48",
   "metadata": {},
   "source": [
    "### Progress Bars for Simulation Run ###\n",
    "TARDIS displays progress bars by default to track the simulation. The progress bars are not displayed in the documentation but show up when you run the notebook.\n",
    "\n",
    "![TARDIS Progress Bars](../images/progress_bars_demo.gif)"
   ]
  },
  {
   "cell_type": "markdown",
   "id": "6e6b8b8f",
   "metadata": {},
   "source": [
    "You can disable the progress bars as well."
   ]
  },
  {
   "cell_type": "code",
   "execution_count": 1,
   "id": "319759fd",
   "metadata": {},
   "outputs": [],
   "source": [
    "from tardis import run_tardis\n",
    "sim = run_tardis('tardis_example.yml', show_progress_bars = False)"
   ]
  },
  {
   "cell_type": "code",
   "execution_count": null,
   "id": "e51d94c9",
   "metadata": {},
   "outputs": [],
   "source": []
  }
 ],
 "metadata": {
  "kernelspec": {
   "display_name": "Python 3",
   "language": "python",
   "name": "python3"
  },
  "language_info": {
   "codemirror_mode": {
    "name": "ipython",
    "version": 3
   },
   "file_extension": ".py",
   "mimetype": "text/x-python",
   "name": "python",
   "nbconvert_exporter": "python",
   "pygments_lexer": "ipython3",
   "version": "3.7.10"
  }
 },
 "nbformat": 4,
 "nbformat_minor": 5
}
